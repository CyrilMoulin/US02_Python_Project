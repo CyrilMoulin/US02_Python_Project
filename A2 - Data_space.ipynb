{
 "cells": [
  {
   "cell_type": "markdown",
   "metadata": {},
   "source": [
    "#### Libraries"
   ]
  },
  {
   "cell_type": "code",
   "execution_count": 57,
   "metadata": {},
   "outputs": [],
   "source": [
    "from bs4 import BeautifulSoup\n",
    "from collections import Counter\n",
    "import requests\n",
    "import pickle\n",
    "import random\n",
    "import time"
   ]
  },
  {
   "cell_type": "markdown",
   "metadata": {},
   "source": [
    "#### List of private companies"
   ]
  },
  {
   "cell_type": "code",
   "execution_count": 58,
   "metadata": {},
   "outputs": [],
   "source": [
    "# Load list of private companies.\n",
    "with open('List_private_spaceflight_company.pickle','rb') as fp:\n",
    "    companylist = pickle.load(fp)\n",
    "    \n",
    "# Creates dictionary with private companies list. An id is assigned for each company.\n",
    "lowercompanylist = []\n",
    "for company in companylist:\n",
    "    lowercompanylist.append(company.lower())"
   ]
  },
  {
   "cell_type": "code",
   "execution_count": 59,
   "metadata": {},
   "outputs": [],
   "source": [
    "# Init counterlist\n",
    "# The dictionary \"counterlist\" index the \"weight\" values for each year\n",
    "counterlist = {}\n",
    "for company in companylist:\n",
    "    counterlist[(company)] = {'value':[]}"
   ]
  },
  {
   "cell_type": "markdown",
   "metadata": {},
   "source": [
    "#### Fonctions"
   ]
  },
  {
   "cell_type": "code",
   "execution_count": 61,
   "metadata": {},
   "outputs": [],
   "source": [
    "# Search fonction\n",
    "def get_list_article_name(soup):\n",
    "    # titlelits : List the titles of articles for one year\n",
    "    titlelist = []\n",
    "    dayarticle = soup.find_all('li', class_='day-article')\n",
    "    for article in dayarticle:\n",
    "        a = article.find_all('a')\n",
    "        for articletitle in a:\n",
    "            title = articletitle.get_text()\n",
    "        titlelist.append(title)\n",
    "    return titlelist\n",
    "\n",
    "# Count Fonction\n",
    "def get_counter(fulltitlelist, companylist, counterlist):\n",
    "    # item: List the companies mentioned in all the titles on one year\n",
    "    item = []\n",
    "    for title in fulltitlelist:\n",
    "        for company in companylist:\n",
    "            if company.lower() in title.lower():\n",
    "                item.append(company)\n",
    "\n",
    "    counts = Counter(word for word in item)\n",
    "    \n",
    "    # Assign \"weight\" values (here counts) for each company\n",
    "    for key in counterlist:\n",
    "        if key in counts.keys():\n",
    "            counterlist[(key)]['value'].append(counts[key])\n",
    "        else:\n",
    "            # If a company is not mentioned during a year \"weight\" value is 0\n",
    "            counterlist[(key)]['value'].append(0)\n",
    "            \n",
    "    return counterlist"
   ]
  },
  {
   "cell_type": "markdown",
   "metadata": {},
   "source": [
    "#### Main program"
   ]
  },
  {
   "cell_type": "code",
   "execution_count": 62,
   "metadata": {},
   "outputs": [
    {
     "name": "stdout",
     "output_type": "stream",
     "text": [
      "2010\n",
      "2011\n",
      "2012\n",
      "2013\n",
      "2014\n",
      "2015\n",
      "2016\n",
      "2017\n",
      "2018\n"
     ]
    }
   ],
   "source": [
    "# For each year from 2010 to 2018\n",
    "for i in range(0,9):\n",
    "    # fulltitlelist : Stocks all articles on one year\n",
    "    fulltitlelist = []\n",
    "    # Go all the months of the year\n",
    "    for j in range(1,13):\n",
    "        url = 'https://www.space.com/news/archive/20' + str(10 + i) + '/' + str(j)\n",
    "        r = requests.get(url)\n",
    "        soup = BeautifulSoup(r.text,'html5lib')\n",
    "\n",
    "        titlelist = get_list_article_name(soup)\n",
    "        \n",
    "        for title in titlelist:\n",
    "            fulltitlelist.append(title)\n",
    "\n",
    "        time.sleep(random.uniform(0.5,1.5))\n",
    "        \n",
    "    counterlist = get_counter(fulltitlelist, companylist, counterlist)\n",
    "    print('20' + str(10 + i))"
   ]
  },
  {
   "cell_type": "markdown",
   "metadata": {},
   "source": [
    "#### Recording of data"
   ]
  },
  {
   "cell_type": "code",
   "execution_count": 65,
   "metadata": {},
   "outputs": [],
   "source": [
    "with open('List_count_companies_2010_2018.pickle','wb+') as fp:\n",
    "    pickle.dump(counterlist, fp)"
   ]
  },
  {
   "cell_type": "markdown",
   "metadata": {},
   "source": [
    "#### Optimization of the list of private companies"
   ]
  },
  {
   "cell_type": "code",
   "execution_count": 66,
   "metadata": {},
   "outputs": [],
   "source": [
    "with open('List_count_companies_2010_2018.pickle','rb') as fp:\n",
    "    counterlist = pickle.load(fp)"
   ]
  },
  {
   "cell_type": "code",
   "execution_count": 68,
   "metadata": {},
   "outputs": [
    {
     "data": {
      "text/plain": [
       "{'Ventions': {'value': [0, 2, 0, 0, 0, 1, 0, 1, 0]},\n",
       " 'Blue Origin': {'value': [1, 0, 2, 1, 3, 10, 29, 27, 19]},\n",
       " 'Lockheed Martin': {'value': [0, 1, 0, 1, 1, 1, 3, 3, 3]},\n",
       " 'Rocket Lab': {'value': [0, 0, 1, 0, 0, 0, 6, 12, 23]},\n",
       " 'SpaceX': {'value': [29, 10, 80, 59, 92, 94, 135, 199, 228]},\n",
       " 'United Launch Alliance': {'value': [0, 0, 0, 0, 0, 4, 2, 0, 2]},\n",
       " 'Virgin Galactic': {'value': [12, 10, 12, 30, 35, 9, 14, 12, 21]}}"
      ]
     },
     "execution_count": 68,
     "metadata": {},
     "output_type": "execute_result"
    }
   ],
   "source": [
    "# This code looks for companies which have a \"weight\" of less than 4\n",
    "names = []\n",
    "for key in counterlist.keys():\n",
    "    i = 0\n",
    "    for value in counterlist[key]['value']:\n",
    "        i += value\n",
    "    if i < 4:\n",
    "        names.append(key)\n",
    "\n",
    "for name in names:\n",
    "    del counterlist[name]\n",
    "    \n",
    "counterlist"
   ]
  },
  {
   "cell_type": "markdown",
   "metadata": {},
   "source": [
    "#### Import data in Excel sheet"
   ]
  },
  {
   "cell_type": "code",
   "execution_count": 69,
   "metadata": {},
   "outputs": [],
   "source": [
    "import pandas as pd"
   ]
  },
  {
   "cell_type": "code",
   "execution_count": 70,
   "metadata": {},
   "outputs": [
    {
     "data": {
      "text/html": [
       "<div>\n",
       "<style scoped>\n",
       "    .dataframe tbody tr th:only-of-type {\n",
       "        vertical-align: middle;\n",
       "    }\n",
       "\n",
       "    .dataframe tbody tr th {\n",
       "        vertical-align: top;\n",
       "    }\n",
       "\n",
       "    .dataframe thead th {\n",
       "        text-align: right;\n",
       "    }\n",
       "</style>\n",
       "<table border=\"1\" class=\"dataframe\">\n",
       "  <thead>\n",
       "    <tr style=\"text-align: right;\">\n",
       "      <th></th>\n",
       "      <th>Company</th>\n",
       "      <th>2010</th>\n",
       "      <th>2011</th>\n",
       "      <th>2012</th>\n",
       "      <th>2013</th>\n",
       "      <th>2014</th>\n",
       "      <th>2015</th>\n",
       "      <th>2016</th>\n",
       "      <th>2017</th>\n",
       "      <th>2018</th>\n",
       "    </tr>\n",
       "  </thead>\n",
       "  <tbody>\n",
       "    <tr>\n",
       "      <th>0</th>\n",
       "      <td>Ventions</td>\n",
       "      <td>0</td>\n",
       "      <td>2</td>\n",
       "      <td>0</td>\n",
       "      <td>0</td>\n",
       "      <td>0</td>\n",
       "      <td>1</td>\n",
       "      <td>0</td>\n",
       "      <td>1</td>\n",
       "      <td>0</td>\n",
       "    </tr>\n",
       "    <tr>\n",
       "      <th>1</th>\n",
       "      <td>Blue Origin</td>\n",
       "      <td>1</td>\n",
       "      <td>0</td>\n",
       "      <td>2</td>\n",
       "      <td>1</td>\n",
       "      <td>3</td>\n",
       "      <td>10</td>\n",
       "      <td>29</td>\n",
       "      <td>27</td>\n",
       "      <td>19</td>\n",
       "    </tr>\n",
       "    <tr>\n",
       "      <th>2</th>\n",
       "      <td>Lockheed Martin</td>\n",
       "      <td>0</td>\n",
       "      <td>1</td>\n",
       "      <td>0</td>\n",
       "      <td>1</td>\n",
       "      <td>1</td>\n",
       "      <td>1</td>\n",
       "      <td>3</td>\n",
       "      <td>3</td>\n",
       "      <td>3</td>\n",
       "    </tr>\n",
       "    <tr>\n",
       "      <th>3</th>\n",
       "      <td>Rocket Lab</td>\n",
       "      <td>0</td>\n",
       "      <td>0</td>\n",
       "      <td>1</td>\n",
       "      <td>0</td>\n",
       "      <td>0</td>\n",
       "      <td>0</td>\n",
       "      <td>6</td>\n",
       "      <td>12</td>\n",
       "      <td>23</td>\n",
       "    </tr>\n",
       "    <tr>\n",
       "      <th>4</th>\n",
       "      <td>SpaceX</td>\n",
       "      <td>29</td>\n",
       "      <td>10</td>\n",
       "      <td>80</td>\n",
       "      <td>59</td>\n",
       "      <td>92</td>\n",
       "      <td>94</td>\n",
       "      <td>135</td>\n",
       "      <td>199</td>\n",
       "      <td>228</td>\n",
       "    </tr>\n",
       "    <tr>\n",
       "      <th>5</th>\n",
       "      <td>United Launch Alliance</td>\n",
       "      <td>0</td>\n",
       "      <td>0</td>\n",
       "      <td>0</td>\n",
       "      <td>0</td>\n",
       "      <td>0</td>\n",
       "      <td>4</td>\n",
       "      <td>2</td>\n",
       "      <td>0</td>\n",
       "      <td>2</td>\n",
       "    </tr>\n",
       "    <tr>\n",
       "      <th>6</th>\n",
       "      <td>Virgin Galactic</td>\n",
       "      <td>12</td>\n",
       "      <td>10</td>\n",
       "      <td>12</td>\n",
       "      <td>30</td>\n",
       "      <td>35</td>\n",
       "      <td>9</td>\n",
       "      <td>14</td>\n",
       "      <td>12</td>\n",
       "      <td>21</td>\n",
       "    </tr>\n",
       "  </tbody>\n",
       "</table>\n",
       "</div>"
      ],
      "text/plain": [
       "                  Company  2010  2011  2012  2013  2014  2015  2016  2017  \\\n",
       "0                Ventions     0     2     0     0     0     1     0     1   \n",
       "1             Blue Origin     1     0     2     1     3    10    29    27   \n",
       "2         Lockheed Martin     0     1     0     1     1     1     3     3   \n",
       "3              Rocket Lab     0     0     1     0     0     0     6    12   \n",
       "4                  SpaceX    29    10    80    59    92    94   135   199   \n",
       "5  United Launch Alliance     0     0     0     0     0     4     2     0   \n",
       "6         Virgin Galactic    12    10    12    30    35     9    14    12   \n",
       "\n",
       "   2018  \n",
       "0     0  \n",
       "1    19  \n",
       "2     3  \n",
       "3    23  \n",
       "4   228  \n",
       "5     2  \n",
       "6    21  "
      ]
     },
     "execution_count": 70,
     "metadata": {},
     "output_type": "execute_result"
    }
   ],
   "source": [
    "fullvalue_excel = []\n",
    "for key in counterlist.keys():\n",
    "    value_excel = []\n",
    "    value_excel.append(key)\n",
    "    for value in counterlist[key]['value']:\n",
    "        value_excel.append(value)\n",
    "    fullvalue_excel.append(value_excel)\n",
    "df = pd.DataFrame(fullvalue_excel, columns=['Company', '2010', '2011', '2012', '2013', '2014', '2015', '2016', '2017', '2018'])\n",
    "df"
   ]
  },
  {
   "cell_type": "markdown",
   "metadata": {},
   "source": [
    "#### Save table"
   ]
  },
  {
   "cell_type": "code",
   "execution_count": 21,
   "metadata": {},
   "outputs": [],
   "source": [
    "df.to_excel(\"output.xlsx\")"
   ]
  },
  {
   "cell_type": "markdown",
   "metadata": {},
   "source": [
    "#### Graphs"
   ]
  },
  {
   "cell_type": "code",
   "execution_count": 71,
   "metadata": {},
   "outputs": [],
   "source": [
    "from matplotlib.legend_handler import HandlerLine2D\n",
    "import matplotlib.pyplot as plt"
   ]
  },
  {
   "cell_type": "code",
   "execution_count": 73,
   "metadata": {},
   "outputs": [
    {
     "data": {
      "image/png": "[encoded data removed]",
      "text/plain": [
       "<Figure size 432x288 with 1 Axes>"
      ]
     },
     "metadata": {
      "needs_background": "light"
     },
     "output_type": "display_data"
    }
   ],
   "source": [
    "x = [2010, 2011, 2012, 2013, 2014, 2015, 2016, 2017, 2018]\n",
    "\n",
    "for company in counterlist.keys():\n",
    "    y = counterlist[company]['value']\n",
    "    plt.plot(x, y, marker='o', label=company)\n",
    "    \n",
    "plt.xlabel('Years')\n",
    "plt.ylabel('Referencing')\n",
    "plt.title('Referencing per year')\n",
    "plt.grid(True)\n",
    "plt.legend()\n",
    "plt.show()"
   ]
  },
  {
   "cell_type": "code",
   "execution_count": 74,
   "metadata": {},
   "outputs": [
    {
     "data": {
      "text/plain": [
       "{'Ventions': {'value': [0, 2, 0, 0, 0, 1, 0, 1, 0]},\n",
       " 'Blue Origin': {'value': [1, 0, 2, 1, 3, 10, 29, 27, 19]},\n",
       " 'Lockheed Martin': {'value': [0, 1, 0, 1, 1, 1, 3, 3, 3]},\n",
       " 'Rocket Lab': {'value': [0, 0, 1, 0, 0, 0, 6, 12, 23]},\n",
       " 'United Launch Alliance': {'value': [0, 0, 0, 0, 0, 4, 2, 0, 2]},\n",
       " 'Virgin Galactic': {'value': [12, 10, 12, 30, 35, 9, 14, 12, 21]}}"
      ]
     },
     "execution_count": 74,
     "metadata": {},
     "output_type": "execute_result"
    }
   ],
   "source": [
    "counterlist2 = counterlist\n",
    "del counterlist2['SpaceX']\n",
    "counterlist2"
   ]
  },
  {
   "cell_type": "code",
   "execution_count": 75,
   "metadata": {},
   "outputs": [
    {
     "data": {
      "image/png": "[encoded data removed]",
      "text/plain": [
       "<Figure size 432x288 with 1 Axes>"
      ]
     },
     "metadata": {
      "needs_background": "light"
     },
     "output_type": "display_data"
    }
   ],
   "source": [
    "x = [2010, 2011, 2012, 2013, 2014, 2015, 2016, 2017, 2018]\n",
    "\n",
    "for company in counterlist2.keys():\n",
    "    y = counterlist2[company]['value']\n",
    "    plt.plot(x, y, marker='o', label=company)\n",
    "    \n",
    "plt.xlabel('Years')\n",
    "plt.ylabel('Referencing')\n",
    "plt.title('Referencing per year')\n",
    "plt.grid(True)\n",
    "plt.legend()\n",
    "plt.show()"
   ]
  },
  {
   "cell_type": "code",
   "execution_count": null,
   "metadata": {},
   "outputs": [],
   "source": []
  }
 ],
 "metadata": {
  "kernelspec": {
   "display_name": "Python 3",
   "language": "python",
   "name": "python3"
  },
  "language_info": {
   "codemirror_mode": {
    "name": "ipython",
    "version": 3
   },
   "file_extension": ".py",
   "mimetype": "text/x-python",
   "name": "python",
   "nbconvert_exporter": "python",
   "pygments_lexer": "ipython3",
   "version": "3.7.1"
  }
 },
 "nbformat": 4,
 "nbformat_minor": 2
}
