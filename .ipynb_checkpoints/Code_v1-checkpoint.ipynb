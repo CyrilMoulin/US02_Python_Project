{
 "cells": [
  {
   "cell_type": "code",
   "execution_count": 43,
   "metadata": {},
   "outputs": [],
   "source": [
    "import requests\n",
    "from bs4 import BeautifulSoup\n",
    "import spacy\n",
    "import en_core_web_sm\n",
    "import en_core_web_lg"
   ]
  },
  {
   "cell_type": "code",
   "execution_count": 3,
   "metadata": {},
   "outputs": [],
   "source": [
    "url = 'https://www.science-et-vie.com/ciel-et-espace'\n",
    "r = requests.get(url)\n",
    "soup = BeautifulSoup(r.text,'html5lib')"
   ]
  },
  {
   "cell_type": "code",
   "execution_count": 10,
   "metadata": {},
   "outputs": [],
   "source": [
    "titlelist = []\n",
    "items = soup.select('div.global.content')\n",
    "titles = soup.find_all(class_='title')\n",
    "for title in titles:\n",
    "    titlename = title.contents[0].string\n",
    "    titlelist.append(titlename)"
   ]
  },
  {
   "cell_type": "code",
   "execution_count": 55,
   "metadata": {},
   "outputs": [
    {
     "name": "stdout",
     "output_type": "stream",
     "text": [
      "['Hubble Legacy Field : une vertigineuse plongée cosmique', 'Astéroïdes tueurs, peut-on s’en protéger ? [REPLAY Direct Science]', 'Des rivières ont coulé abondamment sur Mars', 'Andromède, la mystérieuse galaxie anti-Voie lactée', 'Blue Moon : Jeff Bezos se lance dans la course à la Lune']\n"
     ]
    }
   ],
   "source": [
    "print(titlelist[10:15])"
   ]
  },
  {
   "cell_type": "code",
   "execution_count": 44,
   "metadata": {},
   "outputs": [],
   "source": [
    "nlp_sm = en_core_web_sm.load()\n",
    "nlp_sm.max_length = 2500000\n",
    "nlp_lg = en_core_web_lg.load()\n",
    "nlp_lg.max_length = 2500000"
   ]
  },
  {
   "cell_type": "code",
   "execution_count": 86,
   "metadata": {},
   "outputs": [
    {
     "name": "stdout",
     "output_type": "stream",
     "text": [
      "Forbes PERSON\n",
      "Starlink PRODUCT\n",
      "Sunday DATE\n",
      "Musk ORG\n",
      "SpaceX ORG\n",
      "Starlink ORG\n",
      " \n",
      "Forbes PERSON\n",
      "Starlink PRODUCT\n",
      "Sunday DATE\n",
      "Musk ORG\n",
      "SpaceX ORG\n",
      "Starlink ORG\n"
     ]
    }
   ],
   "source": [
    "text = \"But astronomers told Forbes they worry the firm's Starlink satellites will interfere with gathering of imagery. On Sunday, Musk addressed that concern, tweeting that SpaceX would 'make sure Starlink has no material effect on discoveries in astronomy.'\"\n",
    "doc1 = nlp_sm(text)\n",
    "doc2 = nlp_lg(text)\n",
    "for ent in doc1.ents:\n",
    "    print(ent.text, ent.label_)\n",
    "print(' ')\n",
    "for ent in doc2.ents:\n",
    "    print(ent.text, ent.label_)"
   ]
  },
  {
   "cell_type": "code",
   "execution_count": null,
   "metadata": {},
   "outputs": [],
   "source": []
  }
 ],
 "metadata": {
  "kernelspec": {
   "display_name": "Python 3",
   "language": "python",
   "name": "python3"
  },
  "language_info": {
   "codemirror_mode": {
    "name": "ipython",
    "version": 3
   },
   "file_extension": ".py",
   "mimetype": "text/x-python",
   "name": "python",
   "nbconvert_exporter": "python",
   "pygments_lexer": "ipython3",
   "version": "3.7.1"
  }
 },
 "nbformat": 4,
 "nbformat_minor": 2
}
