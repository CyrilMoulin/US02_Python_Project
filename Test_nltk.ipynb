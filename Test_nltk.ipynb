{
 "cells": [
  {
   "cell_type": "code",
   "execution_count": 78,
   "metadata": {},
   "outputs": [
    {
     "data": {
      "image/png": "[encoded data removed]",
      "text/plain": [
       "<Figure size 432x288 with 1 Axes>"
      ]
     },
     "metadata": {
      "needs_background": "light"
     },
     "output_type": "display_data"
    }
   ],
   "source": [
    "from collections import Counter\n",
    "import nltk\n",
    "\n",
    "# Ouverture du fichier texte\n",
    "fp = open('Titre.txt')\n",
    "text = fp.read()\n",
    "\n",
    "# Sépare chaque mots du texte\n",
    "tokens = nltk.word_tokenize(text)\n",
    "\n",
    "# Identifie le tag de chaque mots\n",
    "tags = nltk.pos_tag(tokens)\n",
    "\n",
    "# Supprime les mots qui ne sont pas des NN, NNS, NNP, NNPS\n",
    "for tag in tags:\n",
    "    if tag[1] != 'NN' and tag[1] != 'NNS' and tag[1] != 'NNP' and tag[1] != 'NNPS':\n",
    "        tokens.remove(str(tag[0]))\n",
    "\n",
    "# Compte le nombre de fois qu'apparait un mots dans le texte\n",
    "counts = Counter(word for word in tokens)\n",
    "\n",
    "# Supprime les mots qui apparaissent une fois\n",
    "for key in counts.keys():\n",
    "    value = counts[key]\n",
    "    if value == 1:\n",
    "        for token in tokens:\n",
    "            if key == token:\n",
    "                tokens.remove(token)\n",
    "\n",
    "# R\"alise un graph à partir des données\n",
    "fd = nltk.FreqDist(tokens)\n",
    "fd.plot()"
   ]
  },
  {
   "cell_type": "code",
   "execution_count": 92,
   "metadata": {},
   "outputs": [],
   "source": [
    "from nltk.probability import *\n",
    "\n",
    "fp = open('Titre.txt')\n",
    "text = fp.read()\n",
    "\n",
    "# Sépare chaque mots du texte\n",
    "tokens = nltk.word_tokenize(text)\n",
    "\n",
    "# Identifie le tag de chaque mots\n",
    "tags = nltk.pos_tag(tokens)\n",
    "\n",
    "# Supprime les mots qui ne sont pas des NN, NNS, NNP, NNPS\n",
    "for tag in tags:\n",
    "    if tag[1] != 'NN' and tag[1] != 'NNS' and tag[1] != 'NNP' and tag[1] != 'NNPS':\n",
    "        tokens.remove(str(tag[0]))\n",
    "        \n",
    "fd1 = nltk.FreqDist(tokens)"
   ]
  },
  {
   "cell_type": "code",
   "execution_count": 95,
   "metadata": {},
   "outputs": [
    {
     "data": {
      "text/plain": [
       "FreqDist({'SpaceX': 3, 'NASA': 3, 'Mars': 3, 'Telescope': 3, 'Webb': 2, 'night': 2, 'sky': 2, 'life': 2, 'view': 2, 'Starlink': 1, ...})"
      ]
     },
     "execution_count": 95,
     "metadata": {},
     "output_type": "execute_result"
    }
   ],
   "source": [
    "fd1"
   ]
  },
  {
   "cell_type": "code",
   "execution_count": null,
   "metadata": {},
   "outputs": [],
   "source": []
  }
 ],
 "metadata": {
  "kernelspec": {
   "display_name": "Python 3",
   "language": "python",
   "name": "python3"
  },
  "language_info": {
   "codemirror_mode": {
    "name": "ipython",
    "version": 3
   },
   "file_extension": ".py",
   "mimetype": "text/x-python",
   "name": "python",
   "nbconvert_exporter": "python",
   "pygments_lexer": "ipython3",
   "version": "3.7.1"
  }
 },
 "nbformat": 4,
 "nbformat_minor": 2
}
