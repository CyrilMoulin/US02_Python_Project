{
 "cells": [
  {
   "cell_type": "code",
   "execution_count": 1,
   "metadata": {},
   "outputs": [],
   "source": [
    "from bs4 import BeautifulSoup\n",
    "import requests\n",
    "import random\n",
    "import time\n",
    "import pickle"
   ]
  },
  {
   "cell_type": "code",
   "execution_count": 37,
   "metadata": {},
   "outputs": [],
   "source": [
    "robot_crawler = []"
   ]
  },
  {
   "cell_type": "code",
   "execution_count": 10,
   "metadata": {},
   "outputs": [],
   "source": [
    "with open('HTML_robot_crawler.pickle','rb') as fp:\n",
    "    robot_crawler = pickle.load(fp)"
   ]
  },
  {
   "cell_type": "code",
   "execution_count": 13,
   "metadata": {},
   "outputs": [],
   "source": [
    "# Création des fichiers HTML\n",
    "\n",
    "for i in range(0,9): # Boucle d'itération en rapport avec l'année de rédaction\n",
    "    for j in range(1,13): # Boucle d'itération en rapport avec le mois de rédaction\n",
    "        \n",
    "        url = 'https://www.space.com/news/archive/20' + str(10 + i) + '/' + str(j)\n",
    "        r1 = requests.get(url)\n",
    "        soup = BeautifulSoup(r1.text,'html5lib')\n",
    "        \n",
    "        year = str(10 + i)\n",
    "        month = str(j)\n",
    "        ite = 1\n",
    "        \n",
    "        for article in soup.find_all('li', class_='day-article'):\n",
    "            for link in article.find_all('a'):\n",
    "                html = link.get('href')\n",
    "                if html not in robot_crawler:\n",
    "                    r2 = requests.get(html)\n",
    "                    # Création du fichier HTML\n",
    "                    file = 'US02_Python_Project_HTML/' + year + month + '(' + str(ite) + ')' + '.html'\n",
    "                    with open(file,'w+',encoding='utf-8') as fp:\n",
    "                        fp.write(r2.text)\n",
    "                        robot_crawler = file\n",
    "                ite += 1\n",
    "                \n",
    "        with open('HTML_robot_crawler.pickle','wb+') as fp:\n",
    "            pickle.dump(robot_crawler, fp)\n",
    "            \n",
    "        time.sleep(random.uniform(0.5,2.0))"
   ]
  },
  {
   "cell_type": "code",
   "execution_count": null,
   "metadata": {},
   "outputs": [],
   "source": []
  }
 ],
 "metadata": {
  "kernelspec": {
   "display_name": "Python 3",
   "language": "python",
   "name": "python3"
  },
  "language_info": {
   "codemirror_mode": {
    "name": "ipython",
    "version": 3
   },
   "file_extension": ".py",
   "mimetype": "text/x-python",
   "name": "python",
   "nbconvert_exporter": "python",
   "pygments_lexer": "ipython3",
   "version": "3.7.1"
  }
 },
 "nbformat": 4,
 "nbformat_minor": 2
}
