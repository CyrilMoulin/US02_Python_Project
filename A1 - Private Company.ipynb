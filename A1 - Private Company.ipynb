{
 "cells": [
  {
   "cell_type": "markdown",
   "metadata": {},
   "source": [
    "#### Libraries"
   ]
  },
  {
   "cell_type": "code",
   "execution_count": 1,
   "metadata": {},
   "outputs": [],
   "source": [
    "import requests\n",
    "from bs4 import BeautifulSoup\n",
    "import pickle"
   ]
  },
  {
   "cell_type": "markdown",
   "metadata": {},
   "source": [
    "#### Search data with UML"
   ]
  },
  {
   "cell_type": "code",
   "execution_count": 2,
   "metadata": {},
   "outputs": [],
   "source": [
    "url = 'https://en.wikipedia.org/wiki/List_of_private_spaceflight_companies#Launch_vehicle_makers'\n",
    "r = requests.get(url)\n",
    "soup = BeautifulSoup(r.text,'html5lib')"
   ]
  },
  {
   "cell_type": "code",
   "execution_count": 3,
   "metadata": {},
   "outputs": [],
   "source": [
    "# companylist : List of the most popular private companies in the space field\n",
    "companylist = []\n",
    "# Search data on table\n",
    "tables = soup.find_all('table', class_='wikitable sortable')\n",
    "tds = tables[3].find_all('td')\n",
    "for td in tds:\n",
    "    if 'data-sort-value' in str(td):\n",
    "        b = td.find_all('a')\n",
    "        for a in b:\n",
    "            companylist.append(a['title'])"
   ]
  },
  {
   "cell_type": "markdown",
   "metadata": {},
   "source": [
    "#### Recording of data"
   ]
  },
  {
   "cell_type": "code",
   "execution_count": 132,
   "metadata": {},
   "outputs": [],
   "source": [
    "with open ('List_private_spaceflight_company.pickle','wb+') as fp:\n",
    "    pickle.dump(companylist, fp)"
   ]
  },
  {
   "cell_type": "code",
   "execution_count": 4,
   "metadata": {},
   "outputs": [
    {
     "data": {
      "text/plain": [
       "['ARCA Space Corporation',\n",
       " 'Australian Space Research Institute',\n",
       " 'Ventions',\n",
       " 'Blue Origin',\n",
       " 'Canadian Arrow',\n",
       " 'Exos Aerospace',\n",
       " 'Firefly Aerospace',\n",
       " 'Gilmour Space Technologies',\n",
       " 'Generation Orbit Launch Services',\n",
       " 'Independence-X Aerospace',\n",
       " 'Interorbital Systems',\n",
       " 'Interstellar Technologies',\n",
       " 'Lockheed Martin',\n",
       " 'OneSpace',\n",
       " 'Orbex',\n",
       " 'Northrop Grumman Innovation Systems',\n",
       " 'OTRAG',\n",
       " 'PLD Space',\n",
       " 'Relativity Space',\n",
       " 'Rocket Lab',\n",
       " 'Space Services Inc.',\n",
       " 'SpaceX',\n",
       " 'United Launch Alliance',\n",
       " 'Vector Space Systems',\n",
       " 'Virgin Galactic',\n",
       " 'Zero2infinity']"
      ]
     },
     "execution_count": 4,
     "metadata": {},
     "output_type": "execute_result"
    }
   ],
   "source": [
    "companylist"
   ]
  },
  {
   "cell_type": "code",
   "execution_count": null,
   "metadata": {},
   "outputs": [],
   "source": []
  }
 ],
 "metadata": {
  "kernelspec": {
   "display_name": "Python 3",
   "language": "python",
   "name": "python3"
  },
  "language_info": {
   "codemirror_mode": {
    "name": "ipython",
    "version": 3
   },
   "file_extension": ".py",
   "mimetype": "text/x-python",
   "name": "python",
   "nbconvert_exporter": "python",
   "pygments_lexer": "ipython3",
   "version": "3.7.1"
  }
 },
 "nbformat": 4,
 "nbformat_minor": 2
}
